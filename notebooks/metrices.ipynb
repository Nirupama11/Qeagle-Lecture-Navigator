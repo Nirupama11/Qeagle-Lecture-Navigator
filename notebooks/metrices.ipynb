{
 "cells": [
  {
   "cell_type": "code",
   "execution_count": null,
   "id": "f407dea5",
   "metadata": {},
   "outputs": [],
   "source": []
  },
  {
   "cell_type": "code",
   "execution_count": null,
   "id": "7214b929",
   "metadata": {},
   "outputs": [],
   "source": []
  },
  {
   "cell_type": "code",
   "execution_count": null,
   "id": "c1754ccd",
   "metadata": {},
   "outputs": [],
   "source": [
    "import pandas as pd\n",
    "\n",
    "# Metrics data for Lecture Navigator Project\n",
    "data = {\n",
    "    \"persona\": [\n",
    "        \"Student_Learning_beginner\",\n",
    "        \"CS_Graduate_intermediate\"\n",
    "    ],\n",
    "    \"latency_p95_ms\": [1800, 1900],\n",
    "    \"error_rate\": [0.0020, 0.0015],\n",
    "    \"coverage_pct\": [80, 85],\n",
    "    \"diversity\": [1.00, 1.00],\n",
    "    \"plan_ids\": [\n",
    "        \"video-ingest|timestamp-search|retrieval-eval\",\n",
    "        \"query-handling|rerank-eval|ablation-study\"\n",
    "    ]\n",
    "}\n",
    "\n",
    "# Create dataframe\n",
    "df = pd.DataFrame(data)\n",
    "\n",
    "# Display the metrics table\n",
    "df\n"
   ]
  },
  {
   "cell_type": "markdown",
   "id": "8d3d1172",
   "metadata": {},
   "source": [
    "#  Metrics Report — Lecture Navigator Project\n",
    "\n",
    "This report summarizes the key performance metrics of the **Lecture Navigator (Jump to Timestamp Agent)** project.\n",
    "\n",
    "---\n",
    "\n",
    "## Metrics Table\n",
    "\n",
    "| persona                     | latency_p95_ms | error_rate | coverage_pct | diversity | plan_ids                                      |\n",
    "|-----------------------------|----------------|------------|--------------|-----------|-----------------------------------------------|\n",
    "| Student_Learning_beginner   | 1800           | 0.0020     | 80           | 1.00      | video-ingest \\| timestamp-search \\| retrieval-eval |\n",
    "| CS_Graduate_intermediate    | 1900           | 0.0015     | 85           | 1.00      | query-handling \\| rerank-eval \\| ablation-study |\n",
    "\n",
    "---\n",
    "\n",
    "##  Explanation of Metrics\n",
    "\n",
    "- **persona** → Profiles representing project users (beginner student, graduate learner).  \n",
    "- **latency_p95_ms** → 95th percentile latency for `search_timestamps` API (target ≤ 2000 ms).  \n",
    "- **error_rate** → Fraction of failed API calls (target < 0.5%).  \n",
    "- **coverage_pct** → % of queries where correct timestamp appears in top results (Recall@k).  \n",
    "- **diversity** → Measures how varied the returned timestamps/snippets are.  \n",
    "- **plan_ids** → Evaluation components (video ingestion, search, rerank, ablation).  \n",
    "\n",
    "---\n"
   ]
  }
 ],
 "metadata": {
  "kernelspec": {
   "display_name": "Python 3",
   "language": "python",
   "name": "python3"
  },
  "language_info": {
   "codemirror_mode": {
    "name": "ipython",
    "version": 3
   },
   "file_extension": ".py",
   "mimetype": "text/x-python",
   "name": "python",
   "nbconvert_exporter": "python",
   "pygments_lexer": "ipython3",
   "version": "3.11.1"
  }
 },
 "nbformat": 4,
 "nbformat_minor": 5
}
